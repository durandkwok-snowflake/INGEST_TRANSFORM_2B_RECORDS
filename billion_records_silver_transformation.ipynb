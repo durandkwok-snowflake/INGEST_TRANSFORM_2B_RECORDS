{
 "metadata": {
  "kernelspec": {
   "display_name": "Streamlit Notebook",
   "name": "streamlit"
  }
 },
 "nbformat_minor": 5,
 "nbformat": 4,
 "cells": [
  {
   "cell_type": "code",
   "id": "3775908f-ca36-4846-8f38-5adca39217f2",
   "metadata": {
    "language": "python",
    "name": "cell1",
    "collapsed": false,
    "resultHeight": 0
   },
   "source": "# Import python packages\nimport streamlit as st\nimport pandas as pd\n\nfrom snowflake.snowpark import Session\nfrom snowflake.snowpark.functions import col, when, lit\n# Snowpark for Python\nfrom snowflake.snowpark.types import DoubleType\nimport snowflake.snowpark.functions as F\n\n# We can also use Snowpark for our analyses!\nfrom snowflake.snowpark.context import get_active_session\nsession = get_active_session()\n",
   "execution_count": null,
   "outputs": []
  },
  {
   "cell_type": "code",
   "id": "0d2e862b-62cf-4940-bee0-71658347b22b",
   "metadata": {
    "language": "sql",
    "name": "cell4",
    "collapsed": false,
    "resultHeight": 113
   },
   "outputs": [],
   "source": "-- Using Warehouse, Database, and Schema created during Setup\nUSE WAREHOUSE BILLION_RECORDS_WH;\nUSE DATABASE COMPANY_TB_TEST;\n-- USE SCHEMA TPCDS_SF10TCL;\nUSE SCHEMA SILVER;",
   "execution_count": null
  },
  {
   "cell_type": "code",
   "id": "3f999be0-307d-4725-8122-3a7c1f1cf2ac",
   "metadata": {
    "language": "python",
    "name": "cell3",
    "collapsed": false,
    "resultHeight": 150
   },
   "outputs": [],
   "source": "# Get Snowflake Session object\nsession = get_active_session()\nsession.sql_simplifier_enabled = True\n\n\n# Current Environment Details\nprint('Connection Established with the following parameters:')\nprint('User      : {}'.format(session.get_current_user()))\nprint('Role      : {}'.format(session.get_current_role()))\nprint('Database  : {}'.format(session.get_current_database()))\nprint('Schema    : {}'.format(session.get_current_schema()))\nprint('Warehouse : {}'.format(session.get_current_warehouse()))",
   "execution_count": null
  },
  {
   "cell_type": "code",
   "id": "2e8c4b17-b93e-4a84-a6cf-89e75a33ca49",
   "metadata": {
    "language": "python",
    "name": "cell6",
    "collapsed": false,
    "resultHeight": 0
   },
   "outputs": [],
   "source": "#df_table = session.table(\"BILLION_RECORDS_TABLE1\")\n#df_table.write.mode('overwrite').save_as_table('BILLION_RECORDS_TABLE1_TRANSFORMED')",
   "execution_count": null
  },
  {
   "cell_type": "code",
   "id": "dc2ea724-41be-4bbd-941c-0a7430cde993",
   "metadata": {
    "language": "sql",
    "name": "cell2",
    "collapsed": false,
    "resultHeight": 113
   },
   "outputs": [],
   "source": "drop table COMPANY_TB_TEST.SILVER.BILLION_RECORDS_ENRICHED_V2;\ndrop table COMPANY_TB_TEST.SILVER.BILLION_RECORDS_ENRICHED_V3;",
   "execution_count": null
  },
  {
   "cell_type": "code",
   "id": "81a18596-432b-45fd-aa74-2b5c22143ee9",
   "metadata": {
    "language": "python",
    "name": "cell12",
    "collapsed": false,
    "resultHeight": 0
   },
   "outputs": [],
   "source": "\n\n# Load the dataframes\n# billion_records_df = session.table(\"COMPANY_TB_TEST.TPCDS_SF10TCL.BILLION_RECORDS_TABLE1\")\nbillion_records_df = session.table(\"COMPANY_TB_TEST.BRONZE.BILLION_RECORDS_TABLE1\")\n\ncustomer_df = session.table(\"COMPANY_TB_TEST.TPCDS_SF10TCL.CUSTOMER\")\ndate_dim_df = session.table(\"COMPANY_TB_TEST.TPCDS_SF10TCL.DATE_DIM\")\n\n# Perform the transformation with joins and calculated columns\ntransformed_df = (\n    billion_records_df\n    .join(customer_df, billion_records_df[\"SS_CUSTOMER_SK\"] == customer_df[\"C_CUSTOMER_SK\"], how=\"left\")\n    .join(date_dim_df, billion_records_df[\"SS_SOLD_DATE_SK\"] == date_dim_df[\"D_DATE_SK\"], how=\"left\")\n    .select(\n        billion_records_df[\"SS_SOLD_DATE_SK\"],\n        billion_records_df[\"SS_SOLD_TIME_SK\"],\n        billion_records_df[\"SS_ITEM_SK\"],\n        billion_records_df[\"SS_CUSTOMER_SK\"],\n        billion_records_df[\"SS_CDEMO_SK\"],\n        billion_records_df[\"SS_HDEMO_SK\"],\n        billion_records_df[\"SS_ADDR_SK\"],\n        billion_records_df[\"SS_STORE_SK\"],\n        billion_records_df[\"SS_PROMO_SK\"],\n        billion_records_df[\"SS_TICKET_NUMBER\"],\n        billion_records_df[\"SS_QUANTITY\"],\n        billion_records_df[\"SS_WHOLESALE_COST\"],\n        billion_records_df[\"SS_LIST_PRICE\"],\n        billion_records_df[\"SS_SALES_PRICE\"],\n        billion_records_df[\"SS_EXT_DISCOUNT_AMT\"],\n        billion_records_df[\"SS_EXT_SALES_PRICE\"],\n        billion_records_df[\"SS_EXT_WHOLESALE_COST\"],\n        billion_records_df[\"SS_EXT_LIST_PRICE\"],\n        billion_records_df[\"SS_EXT_TAX\"],\n        billion_records_df[\"SS_COUPON_AMT\"],\n        billion_records_df[\"SS_NET_PAID\"],\n        billion_records_df[\"SS_NET_PAID_INC_TAX\"],\n        billion_records_df[\"SS_NET_PROFIT\"],\n        customer_df[\"C_CUSTOMER_ID\"],\n        customer_df[\"C_FIRST_NAME\"],\n        customer_df[\"C_LAST_NAME\"],\n        date_dim_df[\"D_DATE\"],\n        date_dim_df[\"D_DAY_NAME\"],\n        date_dim_df[\"D_QUARTER_NAME\"],\n        # Derived Metrics\n        (billion_records_df[\"SS_SALES_PRICE\"] - billion_records_df[\"SS_WHOLESALE_COST\"]).alias(\"GROSS_PROFIT\"),  # Gross profit calculation\n        (billion_records_df[\"SS_EXT_DISCOUNT_AMT\"] + billion_records_df[\"SS_COUPON_AMT\"]).alias(\"TOTAL_DISCOUNT\"),  # Total discount given\n        (billion_records_df[\"SS_QUANTITY\"] * billion_records_df[\"SS_SALES_PRICE\"]).alias(\"TOTAL_REVENUE\"),  # Total revenue for the transaction\n        (billion_records_df[\"SS_EXT_SALES_PRICE\"] / when(billion_records_df[\"SS_QUANTITY\"] == 0, lit(1)).otherwise(billion_records_df[\"SS_QUANTITY\"])).alias(\"AVERAGE_ITEM_PRICE\"),  # Avoid division by zero\n        # Categorizing profit levels\n        when((billion_records_df[\"SS_SALES_PRICE\"] - billion_records_df[\"SS_WHOLESALE_COST\"]) > 500, lit('High Profit'))\n        .when((billion_records_df[\"SS_SALES_PRICE\"] - billion_records_df[\"SS_WHOLESALE_COST\"]).between(100, 500), lit('Medium Profit'))\n        .otherwise(lit('Low Profit')).alias(\"PROFIT_CATEGORY\"),\n        # Checking for significant discounts\n        when(billion_records_df[\"SS_EXT_DISCOUNT_AMT\"] > billion_records_df[\"SS_LIST_PRICE\"] * 0.5, lit('High Discount'))\n        .otherwise(lit('Regular Discount')).alias(\"DISCOUNT_CATEGORY\")\n    )\n)\n\n# Create the new table in Snowflake\n# transformed_df.write.mode(\"overwrite\").save_as_table(\"COMPANY_TB_TEST.TPCDS_SF10TCL.BILLION_RECORDS_ENRICHED\")\ntransformed_df.write.mode(\"overwrite\").save_as_table(\"COMPANY_TB_TEST.SILVER.BILLION_RECORDS_ENRICHED_V2\")\n\n\n",
   "execution_count": null
  },
  {
   "cell_type": "code",
   "id": "6c70c0da-7498-418d-8f6b-8bfe7ad2eb10",
   "metadata": {
    "language": "sql",
    "name": "cell5",
    "collapsed": false,
    "resultHeight": 113
   },
   "outputs": [],
   "source": "select count(*) from BILLION_RECORDS_ENRICHED_V2;",
   "execution_count": null
  },
  {
   "cell_type": "code",
   "id": "02e855e1-6b6a-4084-a088-9bbf8d589508",
   "metadata": {
    "language": "sql",
    "name": "cell7",
    "collapsed": false,
    "resultHeight": 113
   },
   "outputs": [],
   "source": "CREATE OR REPLACE TABLE COMPANY_TB_TEST.SILVER.BILLION_RECORDS_ENRICHED_V3 AS\nSELECT \n    br.SS_SOLD_DATE_SK,\n    br.SS_SOLD_TIME_SK,\n    br.SS_ITEM_SK,\n    br.SS_CUSTOMER_SK,\n    br.SS_CDEMO_SK,\n    br.SS_HDEMO_SK,\n    br.SS_ADDR_SK,\n    br.SS_STORE_SK,\n    br.SS_PROMO_SK,\n    br.SS_TICKET_NUMBER,\n    br.SS_QUANTITY,\n    br.SS_WHOLESALE_COST,\n    br.SS_LIST_PRICE,\n    br.SS_SALES_PRICE,\n    br.SS_EXT_DISCOUNT_AMT,\n    br.SS_EXT_SALES_PRICE,\n    br.SS_EXT_WHOLESALE_COST,\n    br.SS_EXT_LIST_PRICE,\n    br.SS_EXT_TAX,\n    br.SS_COUPON_AMT,\n    br.SS_NET_PAID,\n    br.SS_NET_PAID_INC_TAX,\n    br.SS_NET_PROFIT,\n    c.C_CUSTOMER_ID,\n    c.C_FIRST_NAME,\n    c.C_LAST_NAME,\n    d.D_DATE,\n    d.D_DAY_NAME,\n    d.D_QUARTER_NAME,\n    -- Derived Metrics\n    (br.SS_SALES_PRICE - br.SS_WHOLESALE_COST) AS GROSS_PROFIT, -- Gross profit calculation\n    (br.SS_EXT_DISCOUNT_AMT + br.SS_COUPON_AMT) AS TOTAL_DISCOUNT, -- Total discount given\n    (br.SS_QUANTITY * br.SS_SALES_PRICE) AS TOTAL_REVENUE, -- Total revenue for the transaction\n    (br.SS_EXT_SALES_PRICE / NULLIF(br.SS_QUANTITY, 0)) AS AVERAGE_ITEM_PRICE, -- Avoid division by zero\n    -- Categorizing profit levels\n    CASE \n        WHEN (br.SS_SALES_PRICE - br.SS_WHOLESALE_COST) > 500 THEN 'High Profit'\n        WHEN (br.SS_SALES_PRICE - br.SS_WHOLESALE_COST) BETWEEN 100 AND 500 THEN 'Medium Profit'\n        ELSE 'Low Profit'\n    END AS PROFIT_CATEGORY,\n    -- Checking for significant discounts\n    CASE \n        WHEN br.SS_EXT_DISCOUNT_AMT > br.SS_LIST_PRICE * 0.5 THEN 'High Discount'\n        ELSE 'Regular Discount'\n    END AS DISCOUNT_CATEGORY\nFROM \n    COMPANY_TB_TEST.BRONZE.BILLION_RECORDS_TABLE1 br\nLEFT JOIN \n    COMPANY_TB_TEST.TPCDS_SF10TCL.CUSTOMER c\n    ON br.SS_CUSTOMER_SK = c.C_CUSTOMER_SK\nLEFT JOIN \n    COMPANY_TB_TEST.TPCDS_SF10TCL.DATE_DIM d\n    ON br.SS_SOLD_DATE_SK = d.D_DATE_SK;",
   "execution_count": null
  },
  {
   "cell_type": "code",
   "id": "06a6c229-dcc9-4661-9be8-197cbb0ce98a",
   "metadata": {
    "language": "sql",
    "name": "cell8",
    "collapsed": false,
    "resultHeight": 113
   },
   "outputs": [],
   "source": "select count(*) from BILLION_RECORDS_ENRICHED_V3;",
   "execution_count": null
  },
  {
   "cell_type": "code",
   "id": "0732649c-1bf5-4347-9465-2484acc6083e",
   "metadata": {
    "language": "python",
    "name": "cell11",
    "collapsed": false
   },
   "outputs": [],
   "source": "# Write the transformed data back to a new table\n#transformed_df.write.save_as_table(\"BILLION_RECORDS_TRANSFORMED\",mode=\"overwrite\")",
   "execution_count": null
  }
 ]
}